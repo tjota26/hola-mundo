{
  "nbformat": 4,
  "nbformat_minor": 0,
  "metadata": {
    "colab": {
      "provenance": [],
      "authorship_tag": "ABX9TyNpsccixWMpZs5Wg2jkuKH0",
      "include_colab_link": true
    },
    "kernelspec": {
      "name": "python3",
      "display_name": "Python 3"
    },
    "language_info": {
      "name": "python"
    }
  },
  "cells": [
    {
      "cell_type": "markdown",
      "metadata": {
        "id": "view-in-github",
        "colab_type": "text"
      },
      "source": [
        "<a href=\"https://colab.research.google.com/github/tjota26/hola-mundo/blob/main/Untitled0.ipynb\" target=\"_parent\"><img src=\"https://colab.research.google.com/assets/colab-badge.svg\" alt=\"Open In Colab\"/></a>"
      ]
    },
    {
      "cell_type": "code",
      "execution_count": null,
      "metadata": {
        "id": "yo29dFgw4s4z"
      },
      "outputs": [],
      "source": []
    },
    {
      "cell_type": "markdown",
      "source": [
        "Bloque de texto: Aca escriban una breve explicacion de lo que hace el codigo.\n"
      ],
      "metadata": {
        "id": "v7E2s-_x4vK8"
      }
    },
    {
      "cell_type": "markdown",
      "source": [
        "Permite que el usuario ingrese su edad y el programa le indique a que grupo pertenece.\n",
        "\n"
      ],
      "metadata": {
        "id": "M6rj2T6e5hjk"
      }
    },
    {
      "cell_type": "code",
      "source": [
        "1. #Bloque de código, aca  copian el código de su programa y lo ejecutan\n",
        "\n",
        "print(\" \\t Grupo de Edades\\t\")\n",
        "edad = int(input(\" Ingrese su edad para saber a que grupo pertenece: \\n\"))\n",
        "if edad >= 0 and edad <= 3:\n",
        "    print(f\" La edad de {edad} pertenece al grupo BEBE \")\n",
        "elif edad >= 4 and edad <=12:\n",
        "     print(f\" La edad de {edad} pertenece al grupo NIÑO \")\n",
        "elif edad >= 13 and edad <=17:\n",
        "     print(f\" La edad de {edad} pertenece al grupo ADOLECENTE \")\n",
        "elif edad >= 18 and edad <=60:\n",
        "     print(f\" La edad de {edad} pertenece al grupo ADULTO \")\n",
        "else:\n",
        "     print(f\" La edad de {edad} pertenece al grupo ANCIANO \")"
      ],
      "metadata": {
        "colab": {
          "base_uri": "https://localhost:8080/"
        },
        "id": "bpuMlkeh4_TH",
        "outputId": "ead8a7de-6764-4ef4-9c1d-7168fff327a2",
        "collapsed": true
      },
      "execution_count": 8,
      "outputs": [
        {
          "output_type": "stream",
          "name": "stdout",
          "text": [
            " \t Grupo de Edades\t\n",
            " Ingrese su edad para saber a que grupo pertenece: \n",
            "20\n",
            " La edad de 20 pertenece al grupo ADULTO \n"
          ]
        }
      ]
    },
    {
      "cell_type": "markdown",
      "source": [
        "El script permite que elusuario ingrese su numero de cédula y este indique si es válida o no"
      ],
      "metadata": {
        "id": "PQ9JXDBOm72A"
      }
    },
    {
      "cell_type": "code",
      "source": [
        "2.#Bloque de código, aca  copian el código de su programa y lo ejecutan\n",
        "print(\" \\t VALIDAR UN NÚMERO DE CÉDULA \\t\")\n",
        "# validacion de 10 digitos\n",
        "def validar_digitos(cedula):\n",
        "    return len(cedula) == 10 and cedula.isdigit()\n",
        "\n",
        "# Función para verificar si el primer dígito es válido (debe estar entre 0 y 6)\n",
        "def primer_digito(cedula):\n",
        "    return 0 <= int(cedula[0]) <= 6\n",
        "\n",
        "# Función para calcular el dígito verificador\n",
        "def digito_verificador(cedula):\n",
        "    pesos = [2, 1, 2, 1, 2, 1, 2, 1, 2]\n",
        "    suma = 0\n",
        "    for i in range(9):\n",
        "        producto = int(cedula[i]) * pesos[i]\n",
        "        suma += producto if producto < 10 else producto - 9  # Si el producto es mayor a 9, restamos 9\n",
        "    return (10 - (suma % 10)) % 10\n",
        "\n",
        "# Función principal para validar la cédula\n",
        "def validar_cedula(cedula):\n",
        "    if not validar_digitos(cedula):\n",
        "        return False\n",
        "    if not primer_digito(cedula):\n",
        "        return False\n",
        "    verificador = digito_verificador(cedula)\n",
        "    return verificador == int(cedula[9])\n",
        "\n",
        "# Ejemplo de uso\n",
        "while True:\n",
        "    cedula = input(\" \\nIntroduce la cédula a verificar o - x - para salir: \")\n",
        "    if cedula == \"x\" :\n",
        "        print( \"\\t-------- SALIR--------\\t\")\n",
        "        break\n",
        "    if validar_cedula(cedula):\n",
        "        print(f\"La cédula {cedula} es válida.\")\n",
        "    else:\n",
        "        print(f\"La cédula {cedula} no es válida.\")"
      ],
      "metadata": {
        "colab": {
          "base_uri": "https://localhost:8080/"
        },
        "id": "onCgy0Dc6n_C",
        "outputId": "557165c0-0749-4c46-b48a-73d06fc956e7",
        "collapsed": true
      },
      "execution_count": 2,
      "outputs": [
        {
          "output_type": "stream",
          "name": "stdout",
          "text": [
            " \t VALIDAR UN NÚMERO DE CÉDULA \t\n",
            " \n",
            "Introduce la cédula a verificar o - x - para salir: x\n",
            "\t-------- SALIR--------\t\n"
          ]
        }
      ]
    },
    {
      "cell_type": "markdown",
      "source": [],
      "metadata": {
        "id": "DpJaJgdw60vK"
      }
    }
  ]
}